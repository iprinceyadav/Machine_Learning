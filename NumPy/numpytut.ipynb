{
 "cells": [
  {
   "cell_type": "markdown",
   "id": "ff9d3a62-f299-403b-a0d1-6e72b71e760b",
   "metadata": {},
   "source": [
    "# NumPy\n"
   ]
  },
  {
   "cell_type": "code",
   "execution_count": 1,
   "id": "fe0a04a9-9a4e-4b0c-98f6-846ae9c52c22",
   "metadata": {},
   "outputs": [],
   "source": [
    "import numpy as np"
   ]
  },
  {
   "cell_type": "code",
   "execution_count": 2,
   "id": "b77cfedc-c51e-4866-ba12-57b2c42b2d88",
   "metadata": {},
   "outputs": [],
   "source": [
    "myarr= np.array([[3,4,5,6,7]],np.int8)\n"
   ]
  },
  {
   "cell_type": "code",
   "execution_count": 3,
   "id": "44814bee-9608-4adc-b70c-3663647c8533",
   "metadata": {},
   "outputs": [
    {
     "data": {
      "text/plain": [
       "array([[3, 4, 5, 6, 7]], dtype=int8)"
      ]
     },
     "execution_count": 3,
     "metadata": {},
     "output_type": "execute_result"
    }
   ],
   "source": [
    "myarr"
   ]
  },
  {
   "cell_type": "code",
   "execution_count": 4,
   "id": "47b187be-d3ad-46ac-9790-14275106608e",
   "metadata": {},
   "outputs": [
    {
     "data": {
      "text/plain": [
       "np.int8(4)"
      ]
     },
     "execution_count": 4,
     "metadata": {},
     "output_type": "execute_result"
    }
   ],
   "source": [
    "myarr[0,1]"
   ]
  },
  {
   "cell_type": "code",
   "execution_count": 5,
   "id": "cc5a08d0-88c9-474a-8855-5bafbd60d23e",
   "metadata": {},
   "outputs": [
    {
     "data": {
      "text/plain": [
       "(1, 5)"
      ]
     },
     "execution_count": 5,
     "metadata": {},
     "output_type": "execute_result"
    }
   ],
   "source": [
    "myarr.shape"
   ]
  },
  {
   "cell_type": "code",
   "execution_count": 6,
   "id": "115cb149-75f2-4d75-ab6c-890c498b6191",
   "metadata": {},
   "outputs": [
    {
     "data": {
      "text/plain": [
       "dtype('int8')"
      ]
     },
     "execution_count": 6,
     "metadata": {},
     "output_type": "execute_result"
    }
   ],
   "source": [
    "myarr.dtype"
   ]
  },
  {
   "cell_type": "code",
   "execution_count": 7,
   "id": "2d1908a6-46df-4ba3-b2f6-fedf7d0862fa",
   "metadata": {},
   "outputs": [],
   "source": [
    "myarr[0,1]=55"
   ]
  },
  {
   "cell_type": "code",
   "execution_count": 8,
   "id": "b823793c-dd21-4ba8-a772-b693c190ba38",
   "metadata": {},
   "outputs": [
    {
     "data": {
      "text/plain": [
       "array([[ 3, 55,  5,  6,  7]], dtype=int8)"
      ]
     },
     "execution_count": 8,
     "metadata": {},
     "output_type": "execute_result"
    }
   ],
   "source": [
    "myarr"
   ]
  },
  {
   "cell_type": "code",
   "execution_count": 10,
   "id": "013064eb-2a1d-4c2a-8787-8db6ac4249d3",
   "metadata": {},
   "outputs": [
    {
     "data": {
      "text/plain": [
       "array([0, 1, 2, 3, 4, 5, 6, 7, 8, 9])"
      ]
     },
     "execution_count": 10,
     "metadata": {},
     "output_type": "execute_result"
    }
   ],
   "source": [
    "np.arange(10)"
   ]
  },
  {
   "cell_type": "markdown",
   "id": "bdc7eb09-ea86-4445-9429-065deb7422cf",
   "metadata": {},
   "source": [
    "# Array Creation : Conversion from Other python Structure"
   ]
  },
  {
   "cell_type": "code",
   "execution_count": 13,
   "id": "04684482-71d0-4d49-bf9c-ed2d02ceec6c",
   "metadata": {},
   "outputs": [],
   "source": [
    "listarray =np.array([[1,2,3],[4,5,6],[7,8,9]])"
   ]
  },
  {
   "cell_type": "code",
   "execution_count": 14,
   "id": "4316c682-05ef-4c3b-9697-d28115307cd1",
   "metadata": {},
   "outputs": [
    {
     "data": {
      "text/plain": [
       "array([[1, 2, 3],\n",
       "       [4, 5, 6],\n",
       "       [7, 8, 9]])"
      ]
     },
     "execution_count": 14,
     "metadata": {},
     "output_type": "execute_result"
    }
   ],
   "source": [
    "listarray"
   ]
  },
  {
   "cell_type": "code",
   "execution_count": 15,
   "id": "fecc7ce9-784f-4d2e-bfa5-059d707869b5",
   "metadata": {},
   "outputs": [
    {
     "data": {
      "text/plain": [
       "dtype('int64')"
      ]
     },
     "execution_count": 15,
     "metadata": {},
     "output_type": "execute_result"
    }
   ],
   "source": [
    "listarray.dtype"
   ]
  },
  {
   "cell_type": "code",
   "execution_count": 16,
   "id": "a32a7a9e-8923-4739-bd88-978f980360aa",
   "metadata": {},
   "outputs": [
    {
     "data": {
      "text/plain": [
       "(3, 3)"
      ]
     },
     "execution_count": 16,
     "metadata": {},
     "output_type": "execute_result"
    }
   ],
   "source": [
    "listarray.shape"
   ]
  },
  {
   "cell_type": "code",
   "execution_count": 17,
   "id": "e8f77d3c-82ba-43a1-a1d6-23ea680097a0",
   "metadata": {},
   "outputs": [
    {
     "data": {
      "text/plain": [
       "9"
      ]
     },
     "execution_count": 17,
     "metadata": {},
     "output_type": "execute_result"
    }
   ],
   "source": [
    "listarray.size"
   ]
  },
  {
   "cell_type": "code",
   "execution_count": 18,
   "id": "a2786e7b-fd12-45e7-9d43-4ba01945cbe8",
   "metadata": {},
   "outputs": [
    {
     "data": {
      "text/plain": [
       "array({34, 23}, dtype=object)"
      ]
     },
     "execution_count": 18,
     "metadata": {},
     "output_type": "execute_result"
    }
   ],
   "source": [
    "np.array({34,23,23})"
   ]
  },
  {
   "cell_type": "code",
   "execution_count": 19,
   "id": "16b421d5-e388-48b4-8c62-68c6b7ecbf0f",
   "metadata": {},
   "outputs": [],
   "source": [
    "zeros=np.zeros((2,5))"
   ]
  },
  {
   "cell_type": "code",
   "execution_count": 20,
   "id": "0630c94b-0a62-45d8-9221-64768d6fa50f",
   "metadata": {},
   "outputs": [
    {
     "data": {
      "text/plain": [
       "array([[0., 0., 0., 0., 0.],\n",
       "       [0., 0., 0., 0., 0.]])"
      ]
     },
     "execution_count": 20,
     "metadata": {},
     "output_type": "execute_result"
    }
   ],
   "source": [
    "zeros"
   ]
  },
  {
   "cell_type": "code",
   "execution_count": 21,
   "id": "21f23ed8-136c-4df1-ad0c-4f08780b6dcc",
   "metadata": {},
   "outputs": [
    {
     "data": {
      "text/plain": [
       "dtype('float64')"
      ]
     },
     "execution_count": 21,
     "metadata": {},
     "output_type": "execute_result"
    }
   ],
   "source": [
    "zeros.dtype"
   ]
  },
  {
   "cell_type": "code",
   "execution_count": 23,
   "id": "2e6297a4-cd73-4f44-89c6-8978a4524afe",
   "metadata": {},
   "outputs": [],
   "source": [
    "rng =np.arange(14)"
   ]
  },
  {
   "cell_type": "code",
   "execution_count": 24,
   "id": "b573b1d0-9ad6-41cb-bff2-cb03e1b3c9b5",
   "metadata": {},
   "outputs": [
    {
     "data": {
      "text/plain": [
       "array([ 0,  1,  2,  3,  4,  5,  6,  7,  8,  9, 10, 11, 12, 13])"
      ]
     },
     "execution_count": 24,
     "metadata": {},
     "output_type": "execute_result"
    }
   ],
   "source": [
    "rng\n"
   ]
  },
  {
   "cell_type": "code",
   "execution_count": 25,
   "id": "5f76cf8f-b97f-4cb8-baa3-d707158baa26",
   "metadata": {},
   "outputs": [],
   "source": [
    "lspace=np.linspace(1,10,12)"
   ]
  },
  {
   "cell_type": "code",
   "execution_count": 26,
   "id": "ffb93347-ce22-47c3-8421-34d8b1eb26f7",
   "metadata": {},
   "outputs": [
    {
     "data": {
      "text/plain": [
       "array([ 1.        ,  1.81818182,  2.63636364,  3.45454545,  4.27272727,\n",
       "        5.09090909,  5.90909091,  6.72727273,  7.54545455,  8.36363636,\n",
       "        9.18181818, 10.        ])"
      ]
     },
     "execution_count": 26,
     "metadata": {},
     "output_type": "execute_result"
    }
   ],
   "source": [
    "lspace"
   ]
  },
  {
   "cell_type": "code",
   "execution_count": 27,
   "id": "2472e830-2e39-47a1-8346-d1b1490f6dd2",
   "metadata": {},
   "outputs": [
    {
     "data": {
      "text/plain": [
       "dtype('float64')"
      ]
     },
     "execution_count": 27,
     "metadata": {},
     "output_type": "execute_result"
    }
   ],
   "source": [
    "lspace.dtype"
   ]
  },
  {
   "cell_type": "code",
   "execution_count": 30,
   "id": "7028e9b4-7e65-4e2b-92af-80de5a2d75a1",
   "metadata": {},
   "outputs": [],
   "source": [
    "lspaces=np.linspace(1,10,10)\n"
   ]
  },
  {
   "cell_type": "code",
   "execution_count": 31,
   "id": "de14d3fa-41ff-4bc1-9433-df3feb1c4d78",
   "metadata": {},
   "outputs": [
    {
     "data": {
      "text/plain": [
       "array([ 1.,  2.,  3.,  4.,  5.,  6.,  7.,  8.,  9., 10.])"
      ]
     },
     "execution_count": 31,
     "metadata": {},
     "output_type": "execute_result"
    }
   ],
   "source": [
    "lspaces"
   ]
  },
  {
   "cell_type": "code",
   "execution_count": 34,
   "id": "e67a4a6b-7c87-4a0c-b1f3-c11b0949e273",
   "metadata": {},
   "outputs": [],
   "source": [
    "lspace=np.linspace(1,10,12)"
   ]
  },
  {
   "cell_type": "code",
   "execution_count": 35,
   "id": "858a99d1-988f-4ec1-8afd-02ff4b18dfc5",
   "metadata": {},
   "outputs": [],
   "source": [
    "emp=np.empty((3,3))"
   ]
  },
  {
   "cell_type": "code",
   "execution_count": 36,
   "id": "7cea3f06-1a9f-4da0-ba61-907b1a4cd4b2",
   "metadata": {},
   "outputs": [
    {
     "data": {
      "text/plain": [
       "array([[0., 0., 0.],\n",
       "       [0., 0., 0.],\n",
       "       [0., 0., 0.]])"
      ]
     },
     "execution_count": 36,
     "metadata": {},
     "output_type": "execute_result"
    }
   ],
   "source": [
    "emp"
   ]
  },
  {
   "cell_type": "code",
   "execution_count": 37,
   "id": "2098f3a3-32d5-4211-b632-d37c74b316e6",
   "metadata": {},
   "outputs": [],
   "source": [
    "emp_like=np.empty_like(lspace)"
   ]
  },
  {
   "cell_type": "code",
   "execution_count": 38,
   "id": "b16d039a-2b6c-44f6-b656-e8035337236b",
   "metadata": {},
   "outputs": [
    {
     "data": {
      "text/plain": [
       "array([ 1.        ,  1.81818182,  2.63636364,  3.45454545,  4.27272727,\n",
       "        5.09090909,  5.90909091,  6.72727273,  7.54545455,  8.36363636,\n",
       "        9.18181818, 10.        ])"
      ]
     },
     "execution_count": 38,
     "metadata": {},
     "output_type": "execute_result"
    }
   ],
   "source": [
    "emp_like\n"
   ]
  },
  {
   "cell_type": "code",
   "execution_count": 39,
   "id": "e841de28-a420-41f7-a97d-0aac08f372b8",
   "metadata": {},
   "outputs": [],
   "source": [
    "ide=np.identity(5)"
   ]
  },
  {
   "cell_type": "code",
   "execution_count": 40,
   "id": "a74b1eae-5786-4ce3-b2a2-fadfd55df602",
   "metadata": {},
   "outputs": [
    {
     "data": {
      "text/plain": [
       "array([[1., 0., 0., 0., 0.],\n",
       "       [0., 1., 0., 0., 0.],\n",
       "       [0., 0., 1., 0., 0.],\n",
       "       [0., 0., 0., 1., 0.],\n",
       "       [0., 0., 0., 0., 1.]])"
      ]
     },
     "execution_count": 40,
     "metadata": {},
     "output_type": "execute_result"
    }
   ],
   "source": [
    "ide"
   ]
  },
  {
   "cell_type": "code",
   "execution_count": 42,
   "id": "74904efc-a2ee-4c68-a5bb-7fda3333fbea",
   "metadata": {},
   "outputs": [
    {
     "data": {
      "text/plain": [
       "(5, 5)"
      ]
     },
     "execution_count": 42,
     "metadata": {},
     "output_type": "execute_result"
    }
   ],
   "source": [
    "ide.shape"
   ]
  },
  {
   "cell_type": "code",
   "execution_count": 50,
   "id": "e9d7eba3-bc91-4f4e-91fa-4516237923b5",
   "metadata": {},
   "outputs": [],
   "source": [
    "ide1=ide.ravel()"
   ]
  },
  {
   "cell_type": "code",
   "execution_count": 51,
   "id": "24ffe3a6-a753-4f45-af4b-c70c72bcee18",
   "metadata": {},
   "outputs": [
    {
     "data": {
      "text/plain": [
       "(25,)"
      ]
     },
     "execution_count": 51,
     "metadata": {},
     "output_type": "execute_result"
    }
   ],
   "source": [
    "ide1.shape"
   ]
  },
  {
   "cell_type": "code",
   "execution_count": 52,
   "id": "12dfc54d-b2e0-4587-bcf0-6a1ee74facd7",
   "metadata": {},
   "outputs": [
    {
     "name": "stdout",
     "output_type": "stream",
     "text": [
      "1.0\n",
      "1.8181818181818183\n",
      "2.6363636363636367\n",
      "3.4545454545454546\n",
      "4.272727272727273\n",
      "5.090909090909091\n",
      "5.909090909090909\n",
      "6.7272727272727275\n",
      "7.545454545454546\n",
      "8.363636363636363\n",
      "9.181818181818182\n",
      "10.0\n"
     ]
    }
   ],
   "source": [
    "for item in lspace.flat:\n",
    "    print(item)"
   ]
  },
  {
   "cell_type": "code",
   "execution_count": null,
   "id": "b5d74a8b-ec24-4900-8bbc-3d7cbc3ed3f0",
   "metadata": {},
   "outputs": [],
   "source": []
  }
 ],
 "metadata": {
  "kernelspec": {
   "display_name": "Python 3 (ipykernel)",
   "language": "python",
   "name": "python3"
  },
  "language_info": {
   "codemirror_mode": {
    "name": "ipython",
    "version": 3
   },
   "file_extension": ".py",
   "mimetype": "text/x-python",
   "name": "python",
   "nbconvert_exporter": "python",
   "pygments_lexer": "ipython3",
   "version": "3.12.3"
  }
 },
 "nbformat": 4,
 "nbformat_minor": 5
}
